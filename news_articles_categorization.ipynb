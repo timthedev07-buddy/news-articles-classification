{
  "nbformat": 4,
  "nbformat_minor": 0,
  "metadata": {
    "colab": {
      "name": "news-articles-categorization.ipynb",
      "provenance": [],
      "collapsed_sections": [],
      "authorship_tag": "ABX9TyNIML/D0WwjBRJ/+UUeELLK",
      "include_colab_link": true
    },
    "kernelspec": {
      "name": "python3",
      "display_name": "Python 3"
    },
    "language_info": {
      "name": "python"
    },
    "gpuClass": "standard"
  },
  "cells": [
    {
      "cell_type": "markdown",
      "metadata": {
        "id": "view-in-github",
        "colab_type": "text"
      },
      "source": [
        "<a href=\"https://colab.research.google.com/github/timthedev07/news-articles-classification/blob/dev/news_articles_categorization.ipynb\" target=\"_parent\"><img src=\"https://colab.research.google.com/assets/colab-badge.svg\" alt=\"Open In Colab\"/></a>"
      ]
    },
    {
      "cell_type": "markdown",
      "source": [
        "Import libraries"
      ],
      "metadata": {
        "id": "Z2uRBYIiWlWc"
      }
    },
    {
      "cell_type": "code",
      "execution_count": null,
      "metadata": {
        "id": "4EsrxrpzV0qO",
        "colab": {
          "base_uri": "https://localhost:8080/"
        },
        "outputId": "590deff9-ebaa-480e-eaac-63b6d9786433"
      },
      "outputs": [
        {
          "output_type": "stream",
          "name": "stderr",
          "text": [
            "[nltk_data] Downloading package stopwords to /root/nltk_data...\n",
            "[nltk_data]   Package stopwords is already up-to-date!\n"
          ]
        }
      ],
      "source": [
        "import os\n",
        "import string\n",
        "import re\n",
        "import pandas as pd\n",
        "import tensorflow as tf\n",
        "from tensorflow.keras import Sequential\n",
        "from tensorflow.keras.layers import Dense, Embedding, GlobalMaxPooling1D, Dropout, LSTM\n",
        "from tensorflow.keras.layers import TextVectorization\n",
        "from tensorflow.keras.callbacks import EarlyStopping\n",
        "import nltk\n",
        "import numpy as np\n",
        "from nltk.corpus import stopwords\n",
        "from sklearn.model_selection import train_test_split\n",
        "\n",
        "nltk.download('stopwords')\n",
        "stopWords = set(stopwords.words(\"english\"))\n",
        "stopWords.remove(\"not\")"
      ]
    },
    {
      "cell_type": "markdown",
      "source": [
        "Load data."
      ],
      "metadata": {
        "id": "6GTOwuFWW2iq"
      }
    },
    {
      "cell_type": "code",
      "source": [
        "!rm -rf ./sample_data\n",
        "!rm -rf ./data\n",
        "!mkdir data\n",
        "\n",
        "from google.colab import drive\n",
        "drive.mount('/content/gdrive')\n",
        "\n",
        "!cp \"/content/gdrive/My Drive/datasets/news-articles-categorization/data.json.zip\" data\n",
        "%cd data\n",
        "!unzip -ojq data.json.zip\n",
        "!mv News_Category_Dataset_v2.json data.json\n",
        "!rm -rf data.json.zip\n",
        "%cd ..\n",
        "\n",
        "data = pd.read_json(\"data/data.json\", lines = True)"
      ],
      "metadata": {
        "id": "IWRZu2y2W4v5"
      },
      "execution_count": null,
      "outputs": []
    },
    {
      "cell_type": "code",
      "source": [
        "x = data[\"headline\"]\n",
        "y = pd.get_dummies(data[\"category\"])\n",
        "\n",
        "trainX, testX, trainY, testY = train_test_split(x, y, test_size = 0.2, random_state = 42, shuffle = True)\n",
        "\n",
        "LABELS = np.sort(data[\"category\"].unique())"
      ],
      "metadata": {
        "id": "JayhIkSshKG4"
      },
      "execution_count": null,
      "outputs": []
    },
    {
      "cell_type": "markdown",
      "source": [
        "Input cleaning."
      ],
      "metadata": {
        "id": "ZT0xGQCpkHni"
      }
    },
    {
      "cell_type": "code",
      "source": [
        "def customStandardization(text: tf.Tensor):\n",
        "    # to lower case\n",
        "    text = tf.strings.lower(text)\n",
        "    # expand contraction\n",
        "    pairs = [\n",
        "        (\"won't\", \"will not\"),\n",
        "        (\"can't\", \"can not\"),\n",
        "        (\"n't\", \" not\"),\n",
        "        (\"'re\", \" are\"),\n",
        "        (\"'s\", \" is\"),\n",
        "        (\"'d\", \" would\"),\n",
        "        (\"'ll\", \" will\"),\n",
        "        (\"'t\", \" not\"),\n",
        "        (\"'ve\", \" have\"),\n",
        "        (\"'m\", \" am\"),\n",
        "    ]\n",
        "    for contracted, replacement in pairs:\n",
        "        text = tf.strings.regex_replace(text, contracted, replacement)\n",
        "    \n",
        "    # clean special symbols\n",
        "    text = tf.strings.regex_replace(text, r\"\\d+(?:\\.\\d*)?(?:[eE][+-]?\\d+)?\", \" \")\n",
        "    text = tf.strings.regex_replace(text, r'@([A-Za-z0-9_]+)', \" \")\n",
        "    text = tf.strings.regex_replace(text, r\"[^A-Za-z0-9]+\", \" \")\n",
        "\n",
        "    # remove stopwords\n",
        "    for i in stopWords:\n",
        "        text = tf.strings.regex_replace(text, f\"[^A-Za-z0-9_]+{i}[^A-Za-z0-9_]+\", \" \")\n",
        "\n",
        "    return text"
      ],
      "metadata": {
        "id": "B6IBwuKIkI-f"
      },
      "execution_count": null,
      "outputs": []
    },
    {
      "cell_type": "markdown",
      "source": [
        "The model."
      ],
      "metadata": {
        "id": "45PIAL6Kk6bb"
      }
    },
    {
      "cell_type": "code",
      "source": [
        "SEQUENCE_LENGTH = 12\n",
        "VOCAB_SIZE = 15000\n",
        "\n",
        "vectorizeLayer = TextVectorization(\n",
        "        standardize=customStandardization,\n",
        "        max_tokens=VOCAB_SIZE,\n",
        "        output_mode='int',\n",
        "        output_sequence_length=SEQUENCE_LENGTH)\n",
        "\n",
        "vectorizeLayer.adapt(np.concatenate([trainX, testX]))"
      ],
      "metadata": {
        "id": "bJhfD3bDshmU"
      },
      "execution_count": null,
      "outputs": []
    },
    {
      "cell_type": "code",
      "source": [
        "model = Sequential([\n",
        "    vectorizeLayer,\n",
        "    Embedding(VOCAB_SIZE, 32, name=\"embedding\"),\n",
        "    LSTM(64, name=\"lstm_1\", recurrent_dropout = 0.4, dropout = 0.4),\n",
        "    Dense(len(LABELS), activation = \"softmax\")\n",
        "])\n",
        "\n",
        "model.compile(\n",
        "    optimizer='adam',\n",
        "    loss=tf.keras.losses.BinaryCrossentropy(),\n",
        "    metrics=['accuracy']\n",
        ")\n",
        "\n",
        "model.summary()"
      ],
      "metadata": {
        "colab": {
          "base_uri": "https://localhost:8080/"
        },
        "id": "mV26zILJwQu5",
        "outputId": "ec4c6116-a5cf-4bee-c411-6390a82a69df"
      },
      "execution_count": null,
      "outputs": [
        {
          "output_type": "stream",
          "name": "stdout",
          "text": [
            "Model: \"sequential_10\"\n",
            "_________________________________________________________________\n",
            " Layer (type)                Output Shape              Param #   \n",
            "=================================================================\n",
            " text_vectorization_3 (TextV  (None, 12)               0         \n",
            " ectorization)                                                   \n",
            "                                                                 \n",
            " embedding (Embedding)       (None, 12, 32)            480000    \n",
            "                                                                 \n",
            " lstm_1 (LSTM)               (None, 64)                24832     \n",
            "                                                                 \n",
            " dense_10 (Dense)            (None, 41)                2665      \n",
            "                                                                 \n",
            "=================================================================\n",
            "Total params: 507,497\n",
            "Trainable params: 507,497\n",
            "Non-trainable params: 0\n",
            "_________________________________________________________________\n"
          ]
        }
      ]
    },
    {
      "cell_type": "code",
      "source": [
        "EPOCHS = 20\n",
        "callback = EarlyStopping(patience=1)\n",
        "\n",
        "model.fit(\n",
        "    trainX,\n",
        "    trainY,\n",
        "    epochs=EPOCHS,\n",
        "    batch_size=32,\n",
        "    validation_data=(testX, testY),\n",
        "    callbacks = [callback]\n",
        ")\n"
      ],
      "metadata": {
        "colab": {
          "base_uri": "https://localhost:8080/"
        },
        "id": "32byR1m9xHTa",
        "outputId": "cdc36065-0dde-4819-b269-62e95aa9e36d"
      },
      "execution_count": 49,
      "outputs": [
        {
          "output_type": "stream",
          "name": "stdout",
          "text": [
            "Epoch 1/20\n",
            "5022/5022 [==============================] - 170s 33ms/step - loss: 0.1029 - accuracy: 0.2046 - val_loss: 0.0830 - val_accuracy: 0.3469\n",
            "Epoch 2/20\n",
            "5022/5022 [==============================] - 160s 32ms/step - loss: 0.0721 - accuracy: 0.4440 - val_loss: 0.0647 - val_accuracy: 0.5060\n",
            "Epoch 3/20\n",
            "5022/5022 [==============================] - 156s 31ms/step - loss: 0.0613 - accuracy: 0.5319 - val_loss: 0.0593 - val_accuracy: 0.5450\n",
            "Epoch 4/20\n",
            "5022/5022 [==============================] - 161s 32ms/step - loss: 0.0566 - accuracy: 0.5664 - val_loss: 0.0572 - val_accuracy: 0.5576\n",
            "Epoch 5/20\n",
            "5022/5022 [==============================] - 169s 34ms/step - loss: 0.0535 - accuracy: 0.5858 - val_loss: 0.0560 - val_accuracy: 0.5690\n",
            "Epoch 6/20\n",
            "5022/5022 [==============================] - 164s 33ms/step - loss: 0.0515 - accuracy: 0.6021 - val_loss: 0.0553 - val_accuracy: 0.5739\n",
            "Epoch 7/20\n",
            "5022/5022 [==============================] - 161s 32ms/step - loss: 0.0498 - accuracy: 0.6151 - val_loss: 0.0550 - val_accuracy: 0.5763\n",
            "Epoch 8/20\n",
            "5022/5022 [==============================] - 163s 33ms/step - loss: 0.0486 - accuracy: 0.6251 - val_loss: 0.0546 - val_accuracy: 0.5809\n",
            "Epoch 9/20\n",
            "5022/5022 [==============================] - 164s 33ms/step - loss: 0.0475 - accuracy: 0.6337 - val_loss: 0.0547 - val_accuracy: 0.5802\n"
          ]
        },
        {
          "output_type": "execute_result",
          "data": {
            "text/plain": [
              "<keras.callbacks.History at 0x7ff42ff37090>"
            ]
          },
          "metadata": {},
          "execution_count": 49
        }
      ]
    },
    {
      "cell_type": "code",
      "source": [
        "model.save(\"model\")\n",
        "# compress model\n",
        "!zip -r model.zip model\n",
        "\n",
        "# download model\n",
        "from google.colab import files\n",
        "files.download(\"model.zip\")"
      ],
      "metadata": {
        "colab": {
          "base_uri": "https://localhost:8080/",
          "height": 139
        },
        "id": "b0fCLsJVFYiU",
        "outputId": "19918ae2-a994-41bb-cdcd-93289f213844"
      },
      "execution_count": 50,
      "outputs": [
        {
          "output_type": "stream",
          "name": "stdout",
          "text": [
            "  adding: model/ (stored 0%)\n",
            "  adding: model/saved_model.pb (deflated 85%)\n",
            "  adding: model/keras_metadata.pb (deflated 86%)\n",
            "  adding: model/assets/ (stored 0%)\n",
            "  adding: model/variables/ (stored 0%)\n",
            "  adding: model/variables/variables.data-00000-of-00001 (deflated 9%)\n",
            "  adding: model/variables/variables.index (deflated 59%)\n"
          ]
        },
        {
          "output_type": "display_data",
          "data": {
            "text/plain": [
              "<IPython.core.display.Javascript object>"
            ],
            "application/javascript": [
              "\n",
              "    async function download(id, filename, size) {\n",
              "      if (!google.colab.kernel.accessAllowed) {\n",
              "        return;\n",
              "      }\n",
              "      const div = document.createElement('div');\n",
              "      const label = document.createElement('label');\n",
              "      label.textContent = `Downloading \"${filename}\": `;\n",
              "      div.appendChild(label);\n",
              "      const progress = document.createElement('progress');\n",
              "      progress.max = size;\n",
              "      div.appendChild(progress);\n",
              "      document.body.appendChild(div);\n",
              "\n",
              "      const buffers = [];\n",
              "      let downloaded = 0;\n",
              "\n",
              "      const channel = await google.colab.kernel.comms.open(id);\n",
              "      // Send a message to notify the kernel that we're ready.\n",
              "      channel.send({})\n",
              "\n",
              "      for await (const message of channel.messages) {\n",
              "        // Send a message to notify the kernel that we're ready.\n",
              "        channel.send({})\n",
              "        if (message.buffers) {\n",
              "          for (const buffer of message.buffers) {\n",
              "            buffers.push(buffer);\n",
              "            downloaded += buffer.byteLength;\n",
              "            progress.value = downloaded;\n",
              "          }\n",
              "        }\n",
              "      }\n",
              "      const blob = new Blob(buffers, {type: 'application/binary'});\n",
              "      const a = document.createElement('a');\n",
              "      a.href = window.URL.createObjectURL(blob);\n",
              "      a.download = filename;\n",
              "      div.appendChild(a);\n",
              "      a.click();\n",
              "      div.remove();\n",
              "    }\n",
              "  "
            ]
          },
          "metadata": {}
        },
        {
          "output_type": "display_data",
          "data": {
            "text/plain": [
              "<IPython.core.display.Javascript object>"
            ],
            "application/javascript": [
              "download(\"download_fd3c9993-296d-4181-b165-3ba63697336a\", \"model.zip\", 5740148)"
            ]
          },
          "metadata": {}
        }
      ]
    }
  ]
}